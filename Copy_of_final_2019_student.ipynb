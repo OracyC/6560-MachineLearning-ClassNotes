{
  "nbformat": 4,
  "nbformat_minor": 0,
  "metadata": {
    "colab": {
      "name": "Copy of final_2019_student.ipynb",
      "provenance": [],
      "collapsed_sections": [],
      "include_colab_link": true
    },
    "kernelspec": {
      "display_name": "Python 3",
      "language": "python",
      "name": "python3"
    },
    "language_info": {
      "codemirror_mode": {
        "name": "ipython",
        "version": 3
      },
      "file_extension": ".py",
      "mimetype": "text/x-python",
      "name": "python",
      "nbconvert_exporter": "python",
      "pygments_lexer": "ipython3",
      "version": "3.6.3"
    }
  },
  "cells": [
    {
      "cell_type": "markdown",
      "metadata": {
        "id": "view-in-github",
        "colab_type": "text"
      },
      "source": [
        "<a href=\"https://colab.research.google.com/github/OracyC/6560-MachineLearning-ClassNotes/blob/master/Copy_of_final_2019_student.ipynb\" target=\"_parent\"><img src=\"https://colab.research.google.com/assets/colab-badge.svg\" alt=\"Open In Colab\"/></a>"
      ]
    },
    {
      "cell_type": "markdown",
      "metadata": {
        "colab_type": "text",
        "id": "88E1SinoXESX"
      },
      "source": [
        "# Tech Fundamentals Final\n",
        "# enter your name here\n",
        "\n",
        "\"I pledge under the RPI honor code that I have completed this work on my own.\" \n",
        "\n",
        "At any time a monitor may ask you to scroll up to the top of this document to view this. \n"
      ]
    },
    {
      "cell_type": "code",
      "metadata": {
        "colab_type": "code",
        "id": "bazbfl30iE3t",
        "colab": {}
      },
      "source": [
        "#This just gets the data and preps the environment. \n",
        "data=\"https://www.dropbox.com/s/7kbq1hi31a7tnzt/data.zip\""
      ],
      "execution_count": 0,
      "outputs": []
    },
    {
      "cell_type": "code",
      "metadata": {
        "colab_type": "code",
        "id": "K6tm8adzbq58",
        "outputId": "fbec1c61-5ac5-4c3d-abe6-7b168be3e9c3",
        "colab": {
          "base_uri": "https://localhost:8080/",
          "height": 464
        }
      },
      "source": [
        "!wget $data"
      ],
      "execution_count": 48,
      "outputs": [
        {
          "output_type": "stream",
          "text": [
            "--2019-12-16 00:37:40--  https://www.dropbox.com/s/7kbq1hi31a7tnzt/data.zip\n",
            "Resolving www.dropbox.com (www.dropbox.com)... 162.125.8.1, 2620:100:601b:1::a27d:801\n",
            "Connecting to www.dropbox.com (www.dropbox.com)|162.125.8.1|:443... connected.\n",
            "HTTP request sent, awaiting response... 301 Moved Permanently\n",
            "Location: /s/raw/7kbq1hi31a7tnzt/data.zip [following]\n",
            "--2019-12-16 00:37:41--  https://www.dropbox.com/s/raw/7kbq1hi31a7tnzt/data.zip\n",
            "Reusing existing connection to www.dropbox.com:443.\n",
            "HTTP request sent, awaiting response... 302 Found\n",
            "Location: https://uc709298372fe14f0828c39c487c.dl.dropboxusercontent.com/cd/0/inline/AuWpmQLQ8kUT0DG7CcyjujzduhAlAw85zgQ4MUc4B_0cYWKpc-DFHNSqt5GtveFEPzmzXf4qxV4zHUiu8GVltIBMLIAd2XgUtw946I5D-itZwA/file# [following]\n",
            "--2019-12-16 00:37:41--  https://uc709298372fe14f0828c39c487c.dl.dropboxusercontent.com/cd/0/inline/AuWpmQLQ8kUT0DG7CcyjujzduhAlAw85zgQ4MUc4B_0cYWKpc-DFHNSqt5GtveFEPzmzXf4qxV4zHUiu8GVltIBMLIAd2XgUtw946I5D-itZwA/file\n",
            "Resolving uc709298372fe14f0828c39c487c.dl.dropboxusercontent.com (uc709298372fe14f0828c39c487c.dl.dropboxusercontent.com)... 162.125.8.6, 2620:100:601b:6::a27d:806\n",
            "Connecting to uc709298372fe14f0828c39c487c.dl.dropboxusercontent.com (uc709298372fe14f0828c39c487c.dl.dropboxusercontent.com)|162.125.8.6|:443... connected.\n",
            "HTTP request sent, awaiting response... 302 FOUND\n",
            "Location: /cd/0/inline2/AuXndRN_eaX7gOdgrG-Ho4OgNvGDewalxW-4JR9azWPRMIlsAM-Ieqsdc-vZpXwcnkvk5Nqw2Mz7RFLVXiYd9eOEBmAmnzHHjR52iDVxCejhOD9kzcMjLVAMWrhR7jPPjSJmwsKoSV50B0fBX2M8PGrwURk0QOUH5DMdn2Y5pxEoiG0om_mUEnN-tEcb1vsq3C7nDLdk7sizTJqw5nRo5am2Tw_LxTyvAq-wsAt_Q4lkSAe0R6rDBt2Q8Zhr12aN1377WD-2WjIImMMMg0Vtyqwr4S3bm4RuVBEiikwEImP3Gyfy2V3QLA_DPXCiTZ3vYejTXpIbhSCwD55GWJu0fIxR/file [following]\n",
            "--2019-12-16 00:37:41--  https://uc709298372fe14f0828c39c487c.dl.dropboxusercontent.com/cd/0/inline2/AuXndRN_eaX7gOdgrG-Ho4OgNvGDewalxW-4JR9azWPRMIlsAM-Ieqsdc-vZpXwcnkvk5Nqw2Mz7RFLVXiYd9eOEBmAmnzHHjR52iDVxCejhOD9kzcMjLVAMWrhR7jPPjSJmwsKoSV50B0fBX2M8PGrwURk0QOUH5DMdn2Y5pxEoiG0om_mUEnN-tEcb1vsq3C7nDLdk7sizTJqw5nRo5am2Tw_LxTyvAq-wsAt_Q4lkSAe0R6rDBt2Q8Zhr12aN1377WD-2WjIImMMMg0Vtyqwr4S3bm4RuVBEiikwEImP3Gyfy2V3QLA_DPXCiTZ3vYejTXpIbhSCwD55GWJu0fIxR/file\n",
            "Reusing existing connection to uc709298372fe14f0828c39c487c.dl.dropboxusercontent.com:443.\n",
            "HTTP request sent, awaiting response... 200 OK\n",
            "Length: 33651029 (32M) [application/zip]\n",
            "Saving to: ‘data.zip.2’\n",
            "\n",
            "data.zip.2          100%[===================>]  32.09M  31.3MB/s    in 1.0s    \n",
            "\n",
            "2019-12-16 00:37:43 (31.3 MB/s) - ‘data.zip.2’ saved [33651029/33651029]\n",
            "\n"
          ],
          "name": "stdout"
        }
      ]
    },
    {
      "cell_type": "code",
      "metadata": {
        "colab_type": "code",
        "id": "NabIBvxWoICP",
        "outputId": "4b8395e6-602f-48f2-8c0c-72abbe75303c",
        "colab": {
          "base_uri": "https://localhost:8080/",
          "height": 497
        }
      },
      "source": [
        "!unzip -o data.zip"
      ],
      "execution_count": 49,
      "outputs": [
        {
          "output_type": "stream",
          "text": [
            "Archive:  data.zip\n",
            "  inflating: data/ma/medications.csv  \n",
            "  inflating: data/ma/providers.csv   \n",
            "  inflating: data/ma/imaging_studies.csv  \n",
            "  inflating: data/ma/allergies.csv   \n",
            "  inflating: data/ma/procedures.csv  \n",
            "  inflating: data/ma/organizations.csv  \n",
            "  inflating: data/ma/conditions.csv  \n",
            "  inflating: data/ma/careplans.csv   \n",
            "  inflating: data/ma/encounters.csv  \n",
            "  inflating: __MACOSX/data/ma/._encounters.csv  \n",
            "  inflating: data/ma/immunizations.csv  \n",
            "  inflating: data/ma/patients.csv    \n",
            "  inflating: data/ma/observations.csv  \n",
            "  inflating: data/ny/medications.csv  \n",
            "  inflating: data/ny/providers.csv   \n",
            "  inflating: data/ny/imaging_studies.csv  \n",
            "  inflating: data/ny/allergies.csv   \n",
            "  inflating: data/ny/procedures.csv  \n",
            "  inflating: data/ny/organizations.csv  \n",
            "  inflating: data/ny/conditions.csv  \n",
            "  inflating: data/ny/careplans.csv   \n",
            "  inflating: data/ny/encounters.csv  \n",
            "  inflating: __MACOSX/data/ny/._encounters.csv  \n",
            "  inflating: data/ny/immunizations.csv  \n",
            "  inflating: data/ny/patients.csv    \n",
            "  inflating: data/ny/observations.csv  \n"
          ],
          "name": "stdout"
        }
      ]
    },
    {
      "cell_type": "markdown",
      "metadata": {
        "colab_type": "text",
        "id": "880XuoKaXJke"
      },
      "source": [
        "This is healthcare data generated from a syntetic data generator.  We want to see how good it is. "
      ]
    },
    {
      "cell_type": "code",
      "metadata": {
        "colab_type": "code",
        "id": "jcsebVilY9Ue",
        "outputId": "f3cdabcb-ad63-433a-8ed3-e04f1faecb14",
        "colab": {
          "base_uri": "https://localhost:8080/",
          "height": 70
        }
      },
      "source": [
        "#Let's list the files\n",
        "!ls ./data/ma\n"
      ],
      "execution_count": 50,
      "outputs": [
        {
          "output_type": "stream",
          "text": [
            "allergies.csv\tencounters.csv\t     medications.csv\tpatients.csv\n",
            "careplans.csv\timaging_studies.csv  observations.csv\tprocedures.csv\n",
            "conditions.csv\timmunizations.csv    organizations.csv\tproviders.csv\n"
          ],
          "name": "stdout"
        }
      ]
    },
    {
      "cell_type": "code",
      "metadata": {
        "colab_type": "code",
        "id": "0vVUHm0Vi72N",
        "outputId": "35c11cd0-efc1-44e2-e1b4-a2e938ca11c2",
        "colab": {
          "base_uri": "https://localhost:8080/",
          "height": 581
        }
      },
      "source": [
        "#Let's look at one of the dataframes\n",
        "import numpy as np\n",
        "import pandas as pd\n",
        "careplans_ma= pd.read_csv('./data/ma/careplans.csv')\n",
        "careplans_ny= pd.read_csv('./data/ny/careplans.csv')\n",
        "careplans_ma\n"
      ],
      "execution_count": 51,
      "outputs": [
        {
          "output_type": "execute_result",
          "data": {
            "text/html": [
              "<div>\n",
              "<style scoped>\n",
              "    .dataframe tbody tr th:only-of-type {\n",
              "        vertical-align: middle;\n",
              "    }\n",
              "\n",
              "    .dataframe tbody tr th {\n",
              "        vertical-align: top;\n",
              "    }\n",
              "\n",
              "    .dataframe thead th {\n",
              "        text-align: right;\n",
              "    }\n",
              "</style>\n",
              "<table border=\"1\" class=\"dataframe\">\n",
              "  <thead>\n",
              "    <tr style=\"text-align: right;\">\n",
              "      <th></th>\n",
              "      <th>Id</th>\n",
              "      <th>START</th>\n",
              "      <th>STOP</th>\n",
              "      <th>PATIENT</th>\n",
              "      <th>ENCOUNTER</th>\n",
              "      <th>CODE</th>\n",
              "      <th>DESCRIPTION</th>\n",
              "      <th>REASONCODE</th>\n",
              "      <th>REASONDESCRIPTION</th>\n",
              "    </tr>\n",
              "  </thead>\n",
              "  <tbody>\n",
              "    <tr>\n",
              "      <th>0</th>\n",
              "      <td>39780635-39e3-4ed7-b5b3-89de1d212c12</td>\n",
              "      <td>2009-08-23</td>\n",
              "      <td>2009-09-13</td>\n",
              "      <td>4b01e963-3afa-4f9b-b3b9-357ba5cdaab0</td>\n",
              "      <td>c922b9ed-6c6e-40ac-a309-112439f732c7</td>\n",
              "      <td>225358003</td>\n",
              "      <td>Wound care</td>\n",
              "      <td>283371005.0</td>\n",
              "      <td>Laceration of forearm</td>\n",
              "    </tr>\n",
              "    <tr>\n",
              "      <th>1</th>\n",
              "      <td>c121a7f7-12ed-41ce-a2d6-3cb90d636b43</td>\n",
              "      <td>2006-06-28</td>\n",
              "      <td>2016-11-16</td>\n",
              "      <td>dc5eb62e-b6d4-4bad-9351-68bee90d0d67</td>\n",
              "      <td>fcd1c37b-da0b-4f19-9d41-3e44bec198d0</td>\n",
              "      <td>134435003</td>\n",
              "      <td>Routine antenatal care</td>\n",
              "      <td>72892002.0</td>\n",
              "      <td>Normal pregnancy</td>\n",
              "    </tr>\n",
              "    <tr>\n",
              "      <th>2</th>\n",
              "      <td>c5a88bac-818b-42ac-8a32-3dea7cd21750</td>\n",
              "      <td>2010-07-05</td>\n",
              "      <td>2010-08-04</td>\n",
              "      <td>e063f4be-c0c7-4005-aecd-b28768912efd</td>\n",
              "      <td>add5b5ef-9cea-4f95-91a3-2740df4f2b86</td>\n",
              "      <td>385691007</td>\n",
              "      <td>Fracture care</td>\n",
              "      <td>65966004.0</td>\n",
              "      <td>Fracture of forearm</td>\n",
              "    </tr>\n",
              "    <tr>\n",
              "      <th>3</th>\n",
              "      <td>d2be914f-49a1-4de7-9ade-b73dbe7362da</td>\n",
              "      <td>2013-08-11</td>\n",
              "      <td>2013-10-10</td>\n",
              "      <td>dc5eb62e-b6d4-4bad-9351-68bee90d0d67</td>\n",
              "      <td>f90e3839-c185-4a3a-8371-2920efdf7223</td>\n",
              "      <td>385691007</td>\n",
              "      <td>Fracture care</td>\n",
              "      <td>58150001.0</td>\n",
              "      <td>Fracture of clavicle</td>\n",
              "    </tr>\n",
              "    <tr>\n",
              "      <th>4</th>\n",
              "      <td>a7074eb2-8f00-421d-923c-b286a6afba31</td>\n",
              "      <td>2009-08-03</td>\n",
              "      <td>2009-11-01</td>\n",
              "      <td>14d1d8e4-5124-4638-972a-78d3e3edfb03</td>\n",
              "      <td>3673de56-88be-4062-8514-a6bb1541f329</td>\n",
              "      <td>385691007</td>\n",
              "      <td>Fracture care</td>\n",
              "      <td>58150001.0</td>\n",
              "      <td>Fracture of clavicle</td>\n",
              "    </tr>\n",
              "    <tr>\n",
              "      <th>...</th>\n",
              "      <td>...</td>\n",
              "      <td>...</td>\n",
              "      <td>...</td>\n",
              "      <td>...</td>\n",
              "      <td>...</td>\n",
              "      <td>...</td>\n",
              "      <td>...</td>\n",
              "      <td>...</td>\n",
              "      <td>...</td>\n",
              "    </tr>\n",
              "    <tr>\n",
              "      <th>7961</th>\n",
              "      <td>9bd7d4fa-0552-4c27-8afe-0266b212a4b2</td>\n",
              "      <td>1979-06-20</td>\n",
              "      <td>NaN</td>\n",
              "      <td>01f2f71f-9766-4931-bf57-ef8a5c95f48c</td>\n",
              "      <td>423c0565-04f1-4d33-b739-7082544d0cf7</td>\n",
              "      <td>698360004</td>\n",
              "      <td>Diabetes self management plan</td>\n",
              "      <td>15777000.0</td>\n",
              "      <td>Prediabetes</td>\n",
              "    </tr>\n",
              "    <tr>\n",
              "      <th>7962</th>\n",
              "      <td>71d03dc7-7a8d-4aa1-aec1-f3cf165e582a</td>\n",
              "      <td>1981-02-11</td>\n",
              "      <td>NaN</td>\n",
              "      <td>01f2f71f-9766-4931-bf57-ef8a5c95f48c</td>\n",
              "      <td>2ab2a9d7-89a6-4934-bf8a-a9a7ac3b4723</td>\n",
              "      <td>134435003</td>\n",
              "      <td>Routine antenatal care</td>\n",
              "      <td>72892002.0</td>\n",
              "      <td>Normal pregnancy</td>\n",
              "    </tr>\n",
              "    <tr>\n",
              "      <th>7963</th>\n",
              "      <td>07993859-7258-47e6-a35b-9302c6868752</td>\n",
              "      <td>1990-12-09</td>\n",
              "      <td>NaN</td>\n",
              "      <td>01f2f71f-9766-4931-bf57-ef8a5c95f48c</td>\n",
              "      <td>bf596018-72e6-418d-94fb-ad1ad62cc71f</td>\n",
              "      <td>872781000000100</td>\n",
              "      <td>Musculoskeletal care</td>\n",
              "      <td>239872002.0</td>\n",
              "      <td>Osteoarthritis of hip</td>\n",
              "    </tr>\n",
              "    <tr>\n",
              "      <th>7964</th>\n",
              "      <td>a8f7843d-7b7c-4e37-b266-80faa6567ea7</td>\n",
              "      <td>1996-09-18</td>\n",
              "      <td>NaN</td>\n",
              "      <td>01f2f71f-9766-4931-bf57-ef8a5c95f48c</td>\n",
              "      <td>455949e1-e69d-46b5-af9f-4ccbed1baca8</td>\n",
              "      <td>736285004</td>\n",
              "      <td>Hyperlipidemia clinical management plan</td>\n",
              "      <td>55822004.0</td>\n",
              "      <td>Hyperlipidemia</td>\n",
              "    </tr>\n",
              "    <tr>\n",
              "      <th>7965</th>\n",
              "      <td>ace62897-efca-439d-8eb0-2ff9579233c9</td>\n",
              "      <td>2009-07-26</td>\n",
              "      <td>2009-08-09</td>\n",
              "      <td>01f2f71f-9766-4931-bf57-ef8a5c95f48c</td>\n",
              "      <td>a695a8d3-f6cf-4808-9062-c0b062a2cd8d</td>\n",
              "      <td>225358003</td>\n",
              "      <td>Wound care</td>\n",
              "      <td>370247008.0</td>\n",
              "      <td>Facial laceration</td>\n",
              "    </tr>\n",
              "  </tbody>\n",
              "</table>\n",
              "<p>7966 rows × 9 columns</p>\n",
              "</div>"
            ],
            "text/plain": [
              "                                        Id  ...      REASONDESCRIPTION\n",
              "0     39780635-39e3-4ed7-b5b3-89de1d212c12  ...  Laceration of forearm\n",
              "1     c121a7f7-12ed-41ce-a2d6-3cb90d636b43  ...       Normal pregnancy\n",
              "2     c5a88bac-818b-42ac-8a32-3dea7cd21750  ...    Fracture of forearm\n",
              "3     d2be914f-49a1-4de7-9ade-b73dbe7362da  ...   Fracture of clavicle\n",
              "4     a7074eb2-8f00-421d-923c-b286a6afba31  ...   Fracture of clavicle\n",
              "...                                    ...  ...                    ...\n",
              "7961  9bd7d4fa-0552-4c27-8afe-0266b212a4b2  ...            Prediabetes\n",
              "7962  71d03dc7-7a8d-4aa1-aec1-f3cf165e582a  ...       Normal pregnancy\n",
              "7963  07993859-7258-47e6-a35b-9302c6868752  ...  Osteoarthritis of hip\n",
              "7964  a8f7843d-7b7c-4e37-b266-80faa6567ea7  ...         Hyperlipidemia\n",
              "7965  ace62897-efca-439d-8eb0-2ff9579233c9  ...      Facial laceration\n",
              "\n",
              "[7966 rows x 9 columns]"
            ]
          },
          "metadata": {
            "tags": []
          },
          "execution_count": 51
        }
      ]
    },
    {
      "cell_type": "markdown",
      "metadata": {
        "colab_type": "text",
        "id": "-G1gjRxRXESa"
      },
      "source": [
        "# Exploratory Data Analysis \n",
        "\n",
        "The data directory includes a wide variety of data related to health care.  \n",
        "    \n",
        "(1. 5 points) Find the mean of the `COST` varaiable in the `encounters.csv` data for both NY and MA, assigning the values to `cost_ny` and `cost_ma`.   \n",
        "\n",
        "\n",
        "\n"
      ]
    },
    {
      "cell_type": "code",
      "metadata": {
        "colab_type": "code",
        "id": "z6GWZeGvXESc",
        "outputId": "fc612e12-6d13-4f52-c7f7-4ccb4c9f9cf6",
        "colab": {
          "base_uri": "https://localhost:8080/",
          "height": 52
        }
      },
      "source": [
        "# Answer 1\n",
        "\n",
        "#Load the data\n",
        "encounters_ma = pd.read_csv('./data/ma/encounters.csv')\n",
        "encounters_ny = pd.read_csv('./data/ny/encounters.csv')\n",
        "cost_ma=encounters_ma['COST'].mean() # Fix this to calculate the mean of the cost. (5 points)\n",
        "cost_ny=encounters_ny['COST'].mean() #Fix this to calculate the mean of the cost. (5 points)\n",
        "print( cost_ma, cost_ny)\n",
        "print (\"___\", \"    If you are seeing a face, probably aren't there yet. \")"
      ],
      "execution_count": 52,
      "outputs": [
        {
          "output_type": "stream",
          "text": [
            "17.906257207081175 15.188246329742485\n",
            "___     If you are seeing a face, probably aren't there yet. \n"
          ],
          "name": "stdout"
        }
      ]
    },
    {
      "cell_type": "markdown",
      "metadata": {
        "colab_type": "text",
        "id": "1aMi_E27oICs"
      },
      "source": [
        "# Cost Regression Analysis\n",
        "\n",
        "### Dummy Creation and Split to Train and Test for NY ONLY \n",
        "\n",
        "The goal of the code below is to predict the `COST` from `CODE` and `ENCOUNTERCLASS`.  \n",
        "\n",
        "\n",
        "(2. 5 points) First create dummy variables from `CODE` and `ENCOUNTERCLASS`.  Don't use any other variables.  split your data into an 70% train and 30% validation using a `random_state` of 111. For validation, set: \n",
        "\n",
        "```\n",
        "splittest1 = X_train.iloc[5,2]\n",
        "\n",
        "splittest2 = X_test.iloc[7,4]\n",
        "```\n",
        "\n",
        "\n"
      ]
    },
    {
      "cell_type": "code",
      "metadata": {
        "colab_type": "code",
        "id": "q6EnzsJyoICu",
        "outputId": "9b3d2de8-677f-41d1-b034-8d06cea45d65",
        "colab": {
          "base_uri": "https://localhost:8080/",
          "height": 35
        }
      },
      "source": [
        "from sklearn.model_selection import train_test_split\n",
        "from sklearn.linear_model import LinearRegression\n",
        "\n",
        "#Create Dummies. Also set  dummy_na = True\n",
        "encounters_ny_tarin = encounters_ny[['CODE','ENCOUNTERCLASS']]\n",
        "encounters_ny_tarin = pd.get_dummies(encounters_ny_tarin, columns=['CODE','ENCOUNTERCLASS'], dummy_na=True)\n",
        "#y ='COST'\n",
        "y = encounters_ny['COST']\n",
        "#X_train, X_test, y_train, y_test is the naming you should use\n",
        "#verify split\n",
        "X_train, X_test, y_train, y_test = train_test_split(encounters_ny_tarin, y, \n",
        "                                                    train_size=0.7,\n",
        "                                                    test_size=0.3,\n",
        "                                                    random_state=111)\n",
        "#keep this code used for testing. \n",
        "splittest1 = X_train.shape\n",
        "splittest2 = X_test.iloc[7,4]\n",
        "print(splittest1, splittest2)"
      ],
      "execution_count": 53,
      "outputs": [
        {
          "output_type": "stream",
          "text": [
            "(72930, 40) 0\n"
          ],
          "name": "stdout"
        }
      ]
    },
    {
      "cell_type": "markdown",
      "metadata": {
        "colab_type": "text",
        "id": "nV6TiFTmoICx"
      },
      "source": [
        "### Predict Cost via Linear Regression \n",
        "\n",
        "(3. 5 points) Using linear regression analysis, use the `CODE` and `ENCOUNTERCLASS` as independent variables to predict `COST`. This is your naive model. Report R-Squared for both training `r2_train_cost` and validation `r2_test_cost`. \n",
        "\n",
        "\n"
      ]
    },
    {
      "cell_type": "code",
      "metadata": {
        "colab_type": "code",
        "id": "WKKqv5ZpoICy",
        "outputId": "97b31c57-cf6f-470d-a7d0-15d7876e6a9b",
        "colab": {
          "base_uri": "https://localhost:8080/",
          "height": 52
        }
      },
      "source": [
        "#3 Answer\n",
        "from sklearn.linear_model import LinearRegression\n",
        "\n",
        "lr = LinearRegression()\n",
        "lr.fit(X_train,y_train)\n",
        "predict_train = lr.predict(X_train)\n",
        "predict_test = lr.predict(X_test)\n",
        "r2_train_cost = lr.score(X_train,y_train) # Make equal to the R2. \n",
        "r2_test_cost = lr.score(X_test,y_test)# Make equal to the R2. \n",
        "\n",
        "#Keep this\n",
        "print('R2 for Train:', r2_train_cost)\n",
        "print('R2 for Test (cross validation)：', r2_test_cost )"
      ],
      "execution_count": 54,
      "outputs": [
        {
          "output_type": "stream",
          "text": [
            "R2 for Train: 0.6964551409590365\n",
            "R2 for Test (cross validation)： 0.6983619671189338\n"
          ],
          "name": "stdout"
        }
      ]
    },
    {
      "cell_type": "markdown",
      "metadata": {
        "colab_type": "text",
        "id": "jAucAlQIoIC2"
      },
      "source": [
        "# Create Graph of Encounter class vs Cost\n",
        "\n",
        "(4. 5 points) Create a graph of encounter class vs cost. It should look like the graph below (created via seaborn). \n"
      ]
    },
    {
      "cell_type": "code",
      "metadata": {
        "colab_type": "code",
        "id": "M5b0u7uyoIC3",
        "colab": {}
      },
      "source": [
        "%matplotlib inline"
      ],
      "execution_count": 0,
      "outputs": []
    },
    {
      "cell_type": "code",
      "metadata": {
        "colab_type": "code",
        "id": "Vg4u1tjoXETL",
        "outputId": "6606e510-9781-45fc-eda0-156f795a4fde",
        "colab": {
          "base_uri": "https://localhost:8080/",
          "height": 279
        }
      },
      "source": [
        "#4 Answer\n",
        "import seaborn as sns\n",
        "\n",
        "ax = sns.barplot(x=\"COST\", y=\"ENCOUNTERCLASS\", data=encounters_ny)"
      ],
      "execution_count": 56,
      "outputs": [
        {
          "output_type": "display_data",
          "data": {
            "image/png": "[encoded data removed]",
            "text/plain": [
              "<Figure size 432x288 with 1 Axes>"
            ]
          },
          "metadata": {
            "tags": []
          }
        }
      ]
    },
    {
      "cell_type": "markdown",
      "metadata": {
        "colab_type": "text",
        "id": "vyOd-KhooIC-"
      },
      "source": [
        "When you are done, your graph should look like this.  \n",
        "\n",
        "ENCOUNTERCLASS is on the Y axis and  and COST on X axis.\n",
        "\n",
        "![Imgur](https://i.imgur.com/asCDZSM.png)\n"
      ]
    },
    {
      "cell_type": "markdown",
      "metadata": {
        "colab_type": "text",
        "id": "aQ06eTNFXEXk"
      },
      "source": [
        "# High Cost Patients Classification \n",
        "\n",
        "A second Challenge is determine the most expensive individuals.  This is set as all those groups that are more than 1 standard deviation above the mean, indicated as 'HIGHCOST' in the dataset.  \n",
        "\n",
        "(5. 5 points) \n",
        "Overall, count the total number of individuals who are high cost in NY (i.e., where encounters_ny['HIGHCOST'] is equal to 1.) Assign to the value `total_high_cost_ny`. \n",
        "\n",
        "Overall, count the total number of individuals who are high cost in MA (i.e., where encounters_ny['HIGHCOST'] is equal to 1.) Assign to the value `total_high_cost_ma`. \n",
        "\n",
        "\n"
      ]
    },
    {
      "cell_type": "code",
      "metadata": {
        "colab_type": "code",
        "id": "bPGRyrs4oIDA",
        "outputId": "95e6d8e7-22ed-4b93-a074-4d13ce70fa15",
        "colab": {
          "base_uri": "https://localhost:8080/",
          "height": 35
        }
      },
      "source": [
        "#5 Answer \n",
        "total_high_cost_ny=encounters_ny[encounters_ny['HIGHCOST'] == 1].shape[0]  #set to the sum\n",
        "total_high_cost_ma=encounters_ma[encounters_ma['HIGHCOST'] == 1].shape[0]  #set to the sum\n",
        "\n",
        "print(total_high_cost_ny, total_high_cost_ma)"
      ],
      "execution_count": 57,
      "outputs": [
        {
          "output_type": "stream",
          "text": [
            "21558 22505\n"
          ],
          "name": "stdout"
        }
      ]
    },
    {
      "cell_type": "markdown",
      "metadata": {
        "colab_type": "text",
        "id": "a5mGGSz4oIDE"
      },
      "source": [
        "### Split the Train and test set for Classification with you DV set to HIGHCOST for NY Only. \n",
        "\n",
        "\n",
        "(6. 5 points) First split your data into an 70% train and 30% validation. Make sure that the results are *stratified* (equal classes in train and test) with `random_state = 111`.  \n",
        "\n",
        "Also set the following:\n",
        "\n",
        "```\n",
        "splittest3 = y_train.iloc[5]\n",
        "splittest4 = y_test.iloc[3]\n",
        "```\n"
      ]
    },
    {
      "cell_type": "code",
      "metadata": {
        "colab_type": "code",
        "id": "RK4j7B0JoIDE",
        "outputId": "de491423-c106-44e3-f52e-ab6434b4cef2",
        "colab": {
          "base_uri": "https://localhost:8080/",
          "height": 35
        }
      },
      "source": [
        "#6 Answer \n",
        "#Set y equal to train encounters_ny['HIGHCOST'] \n",
        "y = encounters_ny['HIGHCOST']\n",
        "#X_train, X_test, y_train, y_test  is the naming you should use\n",
        "X_train, X_test, y_train, y_test = train_test_split(encounters_ny_tarin,y,train_size=0.7, test_size=0.3, stratify=y, random_state=111)\n",
        "#This will be used for testing. Keep it. \n",
        "splittest3 = y_train.iloc[3]\n",
        "splittest4 = y_test.iloc[17]\n",
        "print (splittest3, splittest4)"
      ],
      "execution_count": 58,
      "outputs": [
        {
          "output_type": "stream",
          "text": [
            "1 1\n"
          ],
          "name": "stdout"
        }
      ]
    },
    {
      "cell_type": "markdown",
      "metadata": {
        "colab_type": "text",
        "id": "2SZb1zDLoIDK"
      },
      "source": [
        "### Classification with Random Forests\n",
        "\n",
        "\n",
        "(8. 5 points) Use a RandomForestClassifier to predict the 'HIGH_COST' with use the `CODE` and `ENCOUNTERCLASS` as independent variables.  \n",
        "\n",
        "Also set the following:\n",
        "\n",
        "```\n",
        "train_accuracy\n",
        "test_accuracy\n",
        "```"
      ]
    },
    {
      "cell_type": "code",
      "metadata": {
        "colab_type": "code",
        "id": "SIXHnQQsoIDL",
        "outputId": "df84a483-28fc-4f54-d246-968fa0e6c396",
        "colab": {
          "base_uri": "https://localhost:8080/",
          "height": 88
        }
      },
      "source": [
        "from sklearn.ensemble import RandomForestClassifier\n",
        "from sklearn import metrics\n",
        "\n",
        "rf = RandomForestClassifier()\n",
        "rf.fit(X_train,y_train)\n",
        "predict_train1=rf.predict(X_train)\n",
        "predict_test1=rf.predict(X_test)\n",
        "train_accuracy = metrics.accuracy_score(predict_train1,y_train)#set to the accuracy\n",
        "test_accuracy = metrics.accuracy_score(predict_test1,y_test) #set to the accuracy\n",
        "#Keep this.\n",
        "print(\"Classifier Accuracy for Train: \", train_accuracy )\n",
        "print(\"Classifier Accuracy for Test: \", test_accuracy )"
      ],
      "execution_count": 59,
      "outputs": [
        {
          "output_type": "stream",
          "text": [
            "/usr/local/lib/python3.6/dist-packages/sklearn/ensemble/forest.py:245: FutureWarning: The default value of n_estimators will change from 10 in version 0.20 to 100 in 0.22.\n",
            "  \"10 in version 0.20 to 100 in 0.22.\", FutureWarning)\n"
          ],
          "name": "stderr"
        },
        {
          "output_type": "stream",
          "text": [
            "Classifier Accuracy for Train:  0.8849033319621555\n",
            "Classifier Accuracy for Test:  0.8817826977220373\n"
          ],
          "name": "stdout"
        }
      ]
    },
    {
      "cell_type": "markdown",
      "metadata": {
        "colab_type": "text",
        "id": "zcSiCldTXEX2"
      },
      "source": [
        "### Submission\n",
        "For the final submission, please submit a link to this notebook to the LMS as a `.ipynb` file.  The TA must be able to run your notebook.  \n",
        "\n",
        "### Please make sure that your notebook above this point runs without errors.  "
      ]
    }
  ]
}