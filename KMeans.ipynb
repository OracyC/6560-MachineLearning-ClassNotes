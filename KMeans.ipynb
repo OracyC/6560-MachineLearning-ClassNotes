{
  "nbformat": 4,
  "nbformat_minor": 0,
  "metadata": {
    "colab": {
      "name": "KMeans",
      "provenance": [],
      "collapsed_sections": [],
      "include_colab_link": true
    },
    "kernelspec": {
      "name": "python3",
      "display_name": "Python 3"
    }
  },
  "cells": [
    {
      "cell_type": "markdown",
      "metadata": {
        "id": "view-in-github",
        "colab_type": "text"
      },
      "source": [
        "<a href=\"https://colab.research.google.com/github/OracyC/6560-MachineLearning-ClassNotes/blob/master/KMeans.ipynb\" target=\"_parent\"><img src=\"https://colab.research.google.com/assets/colab-badge.svg\" alt=\"Open In Colab\"/></a>"
      ]
    },
    {
      "cell_type": "markdown",
      "metadata": {
        "id": "IL8hXymA3y99",
        "colab_type": "text"
      },
      "source": [
        "## In class worksheet. "
      ]
    },
    {
      "cell_type": "code",
      "metadata": {
        "id": "DWXSwtVe4HER",
        "colab_type": "code",
        "colab": {}
      },
      "source": [
        "email=\"zhangy77@rpi.edu\""
      ],
      "execution_count": 0,
      "outputs": []
    },
    {
      "cell_type": "markdown",
      "metadata": {
        "id": "313-QBq49TUK",
        "colab_type": "text"
      },
      "source": [
        "## IRIS\n",
        "Review our iris analysis. "
      ]
    },
    {
      "cell_type": "code",
      "metadata": {
        "id": "_hWtFbE6qEIu",
        "colab_type": "code",
        "colab": {}
      },
      "source": [
        "import pandas as pd\n",
        "import seaborn as sns\n",
        "from sklearn import datasets\n",
        "from sklearn.tree import DecisionTreeClassifier\n",
        "from sklearn.model_selection import train_test_split\n",
        "from sklearn import metrics\n",
        "from sklearn.neighbors import KNeighborsClassifier\n",
        "\n",
        "iris = datasets.load_iris()\n",
        "\n",
        "X = iris.data[:, :]  \n",
        "y = iris.target\n",
        "\n",
        "X_train, X_test, y_train, y_test = train_test_split(X, y, test_size=0.3, random_state=1)"
      ],
      "execution_count": 0,
      "outputs": []
    },
    {
      "cell_type": "code",
      "metadata": {
        "id": "esj0QS6kvr10",
        "colab_type": "code",
        "outputId": "3b2270bc-8834-4ee1-f097-fdc54226e32d",
        "colab": {
          "base_uri": "https://localhost:8080/",
          "height": 35
        }
      },
      "source": [
        "# fit a KNN model\n",
        "model = KNeighborsClassifier(n_neighbors=3)\n",
        "model.fit(X_train, y_train)\n",
        "\n",
        "# predict probabilities\n",
        "y_pred = model.predict(X_test)\n",
        "  \n",
        "#print(y_pred)\n",
        "\n",
        "print(\"Accuracy:\",round(metrics.accuracy_score(y_test, y_pred), 2))\n",
        "#metrics.accuracy_score(y_test, y_pred)"
      ],
      "execution_count": 3,
      "outputs": [
        {
          "output_type": "stream",
          "text": [
            "Accuracy: 0.98\n"
          ],
          "name": "stdout"
        }
      ]
    },
    {
      "cell_type": "markdown",
      "metadata": {
        "id": "7RZh5gzi3_NS",
        "colab_type": "text"
      },
      "source": [
        "Transform the 4 dimensions of the IRIS data to 2 principal components and then 1 principal component. Repeat the accuracy assessment and set `test_1_pc` and `test_2_pc`.  "
      ]
    },
    {
      "cell_type": "code",
      "metadata": {
        "id": "9_sfcqI6wF9J",
        "colab_type": "code",
        "colab": {}
      },
      "source": [
        "from sklearn.decomposition import PCA\n",
        "pca2 = PCA(2)\n",
        "X_pca2 = pca2.fit_transform(X)\n",
        "X_train2, X_test2, y_train2, y_test2 = train_test_split(X_pca2, y, test_size=0.3, random_state=1)"
      ],
      "execution_count": 0,
      "outputs": []
    },
    {
      "cell_type": "code",
      "metadata": {
        "id": "RTIX0eZSHs15",
        "colab_type": "code",
        "outputId": "95f20bce-6be9-4ce6-ea3c-4f0229bee4f6",
        "colab": {
          "base_uri": "https://localhost:8080/",
          "height": 71
        }
      },
      "source": [
        "# fit a KNN model\n",
        "model2 = KNeighborsClassifier(n_neighbors=3)\n",
        "model2.fit(X_train2, y_train2)\n",
        "\n",
        "# predict probabilities\n",
        "y_pred2 = model2.predict(X_test2)\n",
        "  \n",
        "print(y_pred2)\n",
        "\n",
        "print(\"Accuracy:\",round(metrics.accuracy_score(y_test2, y_pred2), 2))\n",
        "test_2_pc = metrics.accuracy_score(y_test2, y_pred2)"
      ],
      "execution_count": 5,
      "outputs": [
        {
          "output_type": "stream",
          "text": [
            "[0 1 1 0 2 1 2 0 0 2 1 0 2 1 1 0 1 1 0 0 1 1 1 0 2 1 0 0 1 2 1 2 1 2 2 0 1\n",
            " 0 1 2 2 0 2 2 1]\n",
            "Accuracy: 1.0\n"
          ],
          "name": "stdout"
        }
      ]
    },
    {
      "cell_type": "code",
      "metadata": {
        "id": "Q-Px9KNeIn5N",
        "colab_type": "code",
        "colab": {}
      },
      "source": [
        "pca1 = PCA(1)\n",
        "X_pca1 = pca1.fit_transform(X)\n",
        "X_train1, X_test1, y_train1, y_test1 = train_test_split(X_pca1, y, test_size=0.3, random_state=1)"
      ],
      "execution_count": 0,
      "outputs": []
    },
    {
      "cell_type": "code",
      "metadata": {
        "id": "jrvJG0sOIx_T",
        "colab_type": "code",
        "outputId": "cc11ecf2-5c58-46cc-efff-8b37f63973ad",
        "colab": {
          "base_uri": "https://localhost:8080/",
          "height": 71
        }
      },
      "source": [
        "# fit a KNN model\n",
        "model1 = KNeighborsClassifier(n_neighbors=3)\n",
        "model1.fit(X_train1, y_train1)\n",
        "\n",
        "# predict probabilities\n",
        "y_pred1 = model1.predict(X_test1)\n",
        "  \n",
        "print(y_pred1)\n",
        "\n",
        "print(\"Accuracy:\",round(metrics.accuracy_score(y_test1, y_pred1), 2))\n",
        "test_1_pc = metrics.accuracy_score(y_test1, y_pred1)"
      ],
      "execution_count": 7,
      "outputs": [
        {
          "output_type": "stream",
          "text": [
            "[0 1 1 0 2 2 2 0 0 2 1 0 2 1 1 0 1 1 0 0 1 1 2 0 2 1 0 0 1 2 1 2 1 2 2 0 1\n",
            " 0 1 2 2 0 1 2 1]\n",
            "Accuracy: 0.93\n"
          ],
          "name": "stdout"
        }
      ]
    },
    {
      "cell_type": "markdown",
      "metadata": {
        "id": "Ta78cM8c9biF",
        "colab_type": "text"
      },
      "source": [
        "K-means: Perform cluster analysis with 4 clusters. Assess how well the clusters match the classes. \n"
      ]
    },
    {
      "cell_type": "code",
      "metadata": {
        "id": "jOtZTYZF9gVr",
        "colab_type": "code",
        "outputId": "1a68baf1-d6b4-4ec6-906d-bf8c32974998",
        "colab": {
          "base_uri": "https://localhost:8080/",
          "height": 266
        }
      },
      "source": [
        "from sklearn.cluster import KMeans\n",
        "import matplotlib.pyplot as plt\n",
        "labels = KMeans(4, random_state=99).fit_predict(X)\n",
        "\n",
        "plt.scatter(X[:, 0], X[:, 1], c=labels,\n",
        "            s=50, cmap='viridis');"
      ],
      "execution_count": 8,
      "outputs": [
        {
          "output_type": "display_data",
          "data": {
            "image/png": "[encoded data removed]",
            "text/plain": [
              "<Figure size 432x288 with 1 Axes>"
            ]
          },
          "metadata": {
            "tags": []
          }
        }
      ]
    },
    {
      "cell_type": "code",
      "metadata": {
        "id": "bZX1fkdmKcUr",
        "colab_type": "code",
        "outputId": "5a573286-4a44-4ae8-e5f5-60b448126614",
        "colab": {
          "base_uri": "https://localhost:8080/",
          "height": 35
        }
      },
      "source": [
        "k = KMeans(n_clusters=4)\n",
        "k.fit(X)\n",
        "y_kmeans = k.predict(X)\n",
        "print(\"Accuracy:\",round(metrics.accuracy_score(y, y_kmeans), 2))"
      ],
      "execution_count": 9,
      "outputs": [
        {
          "output_type": "stream",
          "text": [
            "Accuracy: 0.01\n"
          ],
          "name": "stdout"
        }
      ]
    },
    {
      "cell_type": "code",
      "metadata": {
        "id": "0PZMcRX8MEfw",
        "colab_type": "code",
        "outputId": "30decaeb-e22f-40e7-ea6b-ff06a01c6de4",
        "colab": {
          "base_uri": "https://localhost:8080/",
          "height": 35
        }
      },
      "source": [
        "k1 = KMeans(n_clusters=3)\n",
        "k1.fit(X)\n",
        "y_kmeans1 = k1.predict(X)\n",
        "print(\"Accuracy:\",round(metrics.accuracy_score(y, y_kmeans1), 2))"
      ],
      "execution_count": 10,
      "outputs": [
        {
          "output_type": "stream",
          "text": [
            "Accuracy: 0.24\n"
          ],
          "name": "stdout"
        }
      ]
    },
    {
      "cell_type": "markdown",
      "metadata": {
        "id": "EdWwa_9VxXZr",
        "colab_type": "text"
      },
      "source": [
        "### Extra Exercises. \n",
        "\n",
        "\n",
        "\n",
        "#### 1. Lets consider the 'zoo' dataset. Its available to download from here: https://www.dropbox.com/s/sq50fq4vkdg52le/zoo_data.csv?dl=0\n",
        "\n",
        "#### 2. Print the first 5 rows of zoo data \n",
        "\n",
        "#### 3. Lets perform correlation analysis (zoo_data.corr()) and visualize through a heatmap\n",
        "\n",
        "#### 4. Obtain an overall description of the dataset along with the info\n",
        "\n",
        "#### 5. Describe only a given attribute of this dataset. For example, describe the attribute hair.\n",
        "\n",
        "#### 6. Lets plot a violin plot to analyze the distribution of the data for variables -- 'hair', 'legs' and attributes with indices -- 11 and 12.\n",
        "\n",
        "#### 7. Perform k-Means algorithm on the 'zoo_data' using 'clusters=7' and measure the silhouette_score (sklearn.metrics.silhouette_score). The best value is 1 and the worst value is -1. Values near 0 indicate overlapping clusters. Negative values generally indicate that a sample has been assigned to the wrong cluster, as a different cluster is more similar.\n",
        "\n",
        "#### 8. Lets consider top-3 principal components from this dataset and check the head data. \n",
        "\n",
        "#### 9. Now repeat the K-Means algorithm on the 'pca_data' using 'clusters=7' and measure the silhouette score. Can you notice the score change and is it better or worse? \n",
        "\n",
        "\n",
        "\n",
        "\n"
      ]
    },
    {
      "cell_type": "code",
      "metadata": {
        "id": "hKsmN0816GyB",
        "colab_type": "code",
        "outputId": "10181fd1-54b3-44d1-9ea5-4e5a3a24d07e",
        "colab": {
          "base_uri": "https://localhost:8080/",
          "height": 397
        }
      },
      "source": [
        "!wget https://www.dropbox.com/s/sq50fq4vkdg52le/zoo_data.csv"
      ],
      "execution_count": 11,
      "outputs": [
        {
          "output_type": "stream",
          "text": [
            "--2019-10-29 01:10:36--  https://www.dropbox.com/s/sq50fq4vkdg52le/zoo_data.csv\n",
            "Resolving www.dropbox.com (www.dropbox.com)... 162.125.1.1, 2620:100:601b:1::a27d:801\n",
            "Connecting to www.dropbox.com (www.dropbox.com)|162.125.1.1|:443... connected.\n",
            "HTTP request sent, awaiting response... 301 Moved Permanently\n",
            "Location: /s/raw/sq50fq4vkdg52le/zoo_data.csv [following]\n",
            "--2019-10-29 01:10:36--  https://www.dropbox.com/s/raw/sq50fq4vkdg52le/zoo_data.csv\n",
            "Reusing existing connection to www.dropbox.com:443.\n",
            "HTTP request sent, awaiting response... 302 Found\n",
            "Location: https://ucd8f0e8683506f8b1a81994529c.dl.dropboxusercontent.com/cd/0/inline/ArWAXLpg4gfOJaqnMdHevs0u22vIhaCWTUMZU4mJd4l-6MggWHw6CKgr3O_TyCacpWPPwZc_5PvtOxH0FsukjoaqyHlwJ986lq0b4O6ml1PhMnsNxrJCZpRYL7_Tw7t5PqQ/file# [following]\n",
            "--2019-10-29 01:10:37--  https://ucd8f0e8683506f8b1a81994529c.dl.dropboxusercontent.com/cd/0/inline/ArWAXLpg4gfOJaqnMdHevs0u22vIhaCWTUMZU4mJd4l-6MggWHw6CKgr3O_TyCacpWPPwZc_5PvtOxH0FsukjoaqyHlwJ986lq0b4O6ml1PhMnsNxrJCZpRYL7_Tw7t5PqQ/file\n",
            "Resolving ucd8f0e8683506f8b1a81994529c.dl.dropboxusercontent.com (ucd8f0e8683506f8b1a81994529c.dl.dropboxusercontent.com)... 162.125.8.6, 2620:100:6016:6::a27d:106\n",
            "Connecting to ucd8f0e8683506f8b1a81994529c.dl.dropboxusercontent.com (ucd8f0e8683506f8b1a81994529c.dl.dropboxusercontent.com)|162.125.8.6|:443... connected.\n",
            "HTTP request sent, awaiting response... 200 OK\n",
            "Length: 4053 (4.0K) [text/plain]\n",
            "Saving to: ‘zoo_data.csv.1’\n",
            "\n",
            "zoo_data.csv.1      100%[===================>]   3.96K  --.-KB/s    in 0s      \n",
            "\n",
            "2019-10-29 01:10:37 (488 MB/s) - ‘zoo_data.csv.1’ saved [4053/4053]\n",
            "\n"
          ],
          "name": "stdout"
        }
      ]
    },
    {
      "cell_type": "code",
      "metadata": {
        "id": "3beT7T3k17xQ",
        "colab_type": "code",
        "outputId": "2bc52773-5689-4c48-8c93-22e3096ea5cb",
        "colab": {
          "base_uri": "https://localhost:8080/",
          "height": 179
        }
      },
      "source": [
        "import pandas as pd \n",
        "  \n",
        "zoo_data = pd.read_csv(\"zoo_data.csv\", encoding = 'utf-8', index_col = [\"animal_name\"]) \n",
        "   \n",
        "print(zoo_data.head())"
      ],
      "execution_count": 12,
      "outputs": [
        {
          "output_type": "stream",
          "text": [
            "             hair  feathers  eggs  milk  ...  legs  tail  domestic  catsize\n",
            "animal_name                              ...                               \n",
            "aardvark        1         0     0     1  ...     4     0         0        1\n",
            "antelope        1         0     0     1  ...     4     1         0        1\n",
            "bass            0         0     1     0  ...     0     1         0        0\n",
            "bear            1         0     0     1  ...     4     0         0        1\n",
            "boar            1         0     0     1  ...     4     1         0        1\n",
            "\n",
            "[5 rows x 16 columns]\n"
          ],
          "name": "stdout"
        }
      ]
    },
    {
      "cell_type": "code",
      "metadata": {
        "id": "AjtX38ogMgRH",
        "colab_type": "code",
        "outputId": "fe5b5a54-ec06-490a-e134-074fe214f690",
        "colab": {
          "base_uri": "https://localhost:8080/",
          "height": 233
        }
      },
      "source": [
        "zoo_data.iloc[0:5,:]"
      ],
      "execution_count": 13,
      "outputs": [
        {
          "output_type": "execute_result",
          "data": {
            "text/html": [
              "<div>\n",
              "<style scoped>\n",
              "    .dataframe tbody tr th:only-of-type {\n",
              "        vertical-align: middle;\n",
              "    }\n",
              "\n",
              "    .dataframe tbody tr th {\n",
              "        vertical-align: top;\n",
              "    }\n",
              "\n",
              "    .dataframe thead th {\n",
              "        text-align: right;\n",
              "    }\n",
              "</style>\n",
              "<table border=\"1\" class=\"dataframe\">\n",
              "  <thead>\n",
              "    <tr style=\"text-align: right;\">\n",
              "      <th></th>\n",
              "      <th>hair</th>\n",
              "      <th>feathers</th>\n",
              "      <th>eggs</th>\n",
              "      <th>milk</th>\n",
              "      <th>airborne</th>\n",
              "      <th>aquatic</th>\n",
              "      <th>predator</th>\n",
              "      <th>toothed</th>\n",
              "      <th>backbone</th>\n",
              "      <th>breathes</th>\n",
              "      <th>venomous</th>\n",
              "      <th>fins</th>\n",
              "      <th>legs</th>\n",
              "      <th>tail</th>\n",
              "      <th>domestic</th>\n",
              "      <th>catsize</th>\n",
              "    </tr>\n",
              "    <tr>\n",
              "      <th>animal_name</th>\n",
              "      <th></th>\n",
              "      <th></th>\n",
              "      <th></th>\n",
              "      <th></th>\n",
              "      <th></th>\n",
              "      <th></th>\n",
              "      <th></th>\n",
              "      <th></th>\n",
              "      <th></th>\n",
              "      <th></th>\n",
              "      <th></th>\n",
              "      <th></th>\n",
              "      <th></th>\n",
              "      <th></th>\n",
              "      <th></th>\n",
              "      <th></th>\n",
              "    </tr>\n",
              "  </thead>\n",
              "  <tbody>\n",
              "    <tr>\n",
              "      <th>aardvark</th>\n",
              "      <td>1</td>\n",
              "      <td>0</td>\n",
              "      <td>0</td>\n",
              "      <td>1</td>\n",
              "      <td>0</td>\n",
              "      <td>0</td>\n",
              "      <td>1</td>\n",
              "      <td>1</td>\n",
              "      <td>1</td>\n",
              "      <td>1</td>\n",
              "      <td>0</td>\n",
              "      <td>0</td>\n",
              "      <td>4</td>\n",
              "      <td>0</td>\n",
              "      <td>0</td>\n",
              "      <td>1</td>\n",
              "    </tr>\n",
              "    <tr>\n",
              "      <th>antelope</th>\n",
              "      <td>1</td>\n",
              "      <td>0</td>\n",
              "      <td>0</td>\n",
              "      <td>1</td>\n",
              "      <td>0</td>\n",
              "      <td>0</td>\n",
              "      <td>0</td>\n",
              "      <td>1</td>\n",
              "      <td>1</td>\n",
              "      <td>1</td>\n",
              "      <td>0</td>\n",
              "      <td>0</td>\n",
              "      <td>4</td>\n",
              "      <td>1</td>\n",
              "      <td>0</td>\n",
              "      <td>1</td>\n",
              "    </tr>\n",
              "    <tr>\n",
              "      <th>bass</th>\n",
              "      <td>0</td>\n",
              "      <td>0</td>\n",
              "      <td>1</td>\n",
              "      <td>0</td>\n",
              "      <td>0</td>\n",
              "      <td>1</td>\n",
              "      <td>1</td>\n",
              "      <td>1</td>\n",
              "      <td>1</td>\n",
              "      <td>0</td>\n",
              "      <td>0</td>\n",
              "      <td>1</td>\n",
              "      <td>0</td>\n",
              "      <td>1</td>\n",
              "      <td>0</td>\n",
              "      <td>0</td>\n",
              "    </tr>\n",
              "    <tr>\n",
              "      <th>bear</th>\n",
              "      <td>1</td>\n",
              "      <td>0</td>\n",
              "      <td>0</td>\n",
              "      <td>1</td>\n",
              "      <td>0</td>\n",
              "      <td>0</td>\n",
              "      <td>1</td>\n",
              "      <td>1</td>\n",
              "      <td>1</td>\n",
              "      <td>1</td>\n",
              "      <td>0</td>\n",
              "      <td>0</td>\n",
              "      <td>4</td>\n",
              "      <td>0</td>\n",
              "      <td>0</td>\n",
              "      <td>1</td>\n",
              "    </tr>\n",
              "    <tr>\n",
              "      <th>boar</th>\n",
              "      <td>1</td>\n",
              "      <td>0</td>\n",
              "      <td>0</td>\n",
              "      <td>1</td>\n",
              "      <td>0</td>\n",
              "      <td>0</td>\n",
              "      <td>1</td>\n",
              "      <td>1</td>\n",
              "      <td>1</td>\n",
              "      <td>1</td>\n",
              "      <td>0</td>\n",
              "      <td>0</td>\n",
              "      <td>4</td>\n",
              "      <td>1</td>\n",
              "      <td>0</td>\n",
              "      <td>1</td>\n",
              "    </tr>\n",
              "  </tbody>\n",
              "</table>\n",
              "</div>"
            ],
            "text/plain": [
              "             hair  feathers  eggs  milk  ...  legs  tail  domestic  catsize\n",
              "animal_name                              ...                               \n",
              "aardvark        1         0     0     1  ...     4     0         0        1\n",
              "antelope        1         0     0     1  ...     4     1         0        1\n",
              "bass            0         0     1     0  ...     0     1         0        0\n",
              "bear            1         0     0     1  ...     4     0         0        1\n",
              "boar            1         0     0     1  ...     4     1         0        1\n",
              "\n",
              "[5 rows x 16 columns]"
            ]
          },
          "metadata": {
            "tags": []
          },
          "execution_count": 13
        }
      ]
    },
    {
      "cell_type": "code",
      "metadata": {
        "id": "vUI1cIthMtqu",
        "colab_type": "code",
        "outputId": "6bf45253-48d5-4ce8-eb4b-d40ece81c620",
        "colab": {
          "base_uri": "https://localhost:8080/",
          "height": 329
        }
      },
      "source": [
        "import seaborn as sns\n",
        "sns.heatmap(zoo_data.corr())"
      ],
      "execution_count": 14,
      "outputs": [
        {
          "output_type": "execute_result",
          "data": {
            "text/plain": [
              "<matplotlib.axes._subplots.AxesSubplot at 0x7fdd23ff9be0>"
            ]
          },
          "metadata": {
            "tags": []
          },
          "execution_count": 14
        },
        {
          "output_type": "display_data",
          "data": {
            "image/png": "[encoded data removed]",
            "text/plain": [
              "<Figure size 432x288 with 2 Axes>"
            ]
          },
          "metadata": {
            "tags": []
          }
        }
      ]
    },
    {
      "cell_type": "code",
      "metadata": {
        "id": "xdaQGigGNFaA",
        "colab_type": "code",
        "outputId": "bc1e3ab9-41a0-4721-8b38-c672f2f92b55",
        "colab": {
          "base_uri": "https://localhost:8080/",
          "height": 314
        }
      },
      "source": [
        "zoo_data.describe()"
      ],
      "execution_count": 15,
      "outputs": [
        {
          "output_type": "execute_result",
          "data": {
            "text/html": [
              "<div>\n",
              "<style scoped>\n",
              "    .dataframe tbody tr th:only-of-type {\n",
              "        vertical-align: middle;\n",
              "    }\n",
              "\n",
              "    .dataframe tbody tr th {\n",
              "        vertical-align: top;\n",
              "    }\n",
              "\n",
              "    .dataframe thead th {\n",
              "        text-align: right;\n",
              "    }\n",
              "</style>\n",
              "<table border=\"1\" class=\"dataframe\">\n",
              "  <thead>\n",
              "    <tr style=\"text-align: right;\">\n",
              "      <th></th>\n",
              "      <th>hair</th>\n",
              "      <th>feathers</th>\n",
              "      <th>eggs</th>\n",
              "      <th>milk</th>\n",
              "      <th>airborne</th>\n",
              "      <th>aquatic</th>\n",
              "      <th>predator</th>\n",
              "      <th>toothed</th>\n",
              "      <th>backbone</th>\n",
              "      <th>breathes</th>\n",
              "      <th>venomous</th>\n",
              "      <th>fins</th>\n",
              "      <th>legs</th>\n",
              "      <th>tail</th>\n",
              "      <th>domestic</th>\n",
              "      <th>catsize</th>\n",
              "    </tr>\n",
              "  </thead>\n",
              "  <tbody>\n",
              "    <tr>\n",
              "      <th>count</th>\n",
              "      <td>101.000000</td>\n",
              "      <td>101.000000</td>\n",
              "      <td>101.000000</td>\n",
              "      <td>101.000000</td>\n",
              "      <td>101.000000</td>\n",
              "      <td>101.000000</td>\n",
              "      <td>101.000000</td>\n",
              "      <td>101.000000</td>\n",
              "      <td>101.000000</td>\n",
              "      <td>101.000000</td>\n",
              "      <td>101.000000</td>\n",
              "      <td>101.000000</td>\n",
              "      <td>101.000000</td>\n",
              "      <td>101.000000</td>\n",
              "      <td>101.000000</td>\n",
              "      <td>101.000000</td>\n",
              "    </tr>\n",
              "    <tr>\n",
              "      <th>mean</th>\n",
              "      <td>0.425743</td>\n",
              "      <td>0.198020</td>\n",
              "      <td>0.584158</td>\n",
              "      <td>0.405941</td>\n",
              "      <td>0.237624</td>\n",
              "      <td>0.356436</td>\n",
              "      <td>0.554455</td>\n",
              "      <td>0.603960</td>\n",
              "      <td>0.821782</td>\n",
              "      <td>0.792079</td>\n",
              "      <td>0.079208</td>\n",
              "      <td>0.168317</td>\n",
              "      <td>2.841584</td>\n",
              "      <td>0.742574</td>\n",
              "      <td>0.128713</td>\n",
              "      <td>0.435644</td>\n",
              "    </tr>\n",
              "    <tr>\n",
              "      <th>std</th>\n",
              "      <td>0.496921</td>\n",
              "      <td>0.400495</td>\n",
              "      <td>0.495325</td>\n",
              "      <td>0.493522</td>\n",
              "      <td>0.427750</td>\n",
              "      <td>0.481335</td>\n",
              "      <td>0.499505</td>\n",
              "      <td>0.491512</td>\n",
              "      <td>0.384605</td>\n",
              "      <td>0.407844</td>\n",
              "      <td>0.271410</td>\n",
              "      <td>0.376013</td>\n",
              "      <td>2.033385</td>\n",
              "      <td>0.439397</td>\n",
              "      <td>0.336552</td>\n",
              "      <td>0.498314</td>\n",
              "    </tr>\n",
              "    <tr>\n",
              "      <th>min</th>\n",
              "      <td>0.000000</td>\n",
              "      <td>0.000000</td>\n",
              "      <td>0.000000</td>\n",
              "      <td>0.000000</td>\n",
              "      <td>0.000000</td>\n",
              "      <td>0.000000</td>\n",
              "      <td>0.000000</td>\n",
              "      <td>0.000000</td>\n",
              "      <td>0.000000</td>\n",
              "      <td>0.000000</td>\n",
              "      <td>0.000000</td>\n",
              "      <td>0.000000</td>\n",
              "      <td>0.000000</td>\n",
              "      <td>0.000000</td>\n",
              "      <td>0.000000</td>\n",
              "      <td>0.000000</td>\n",
              "    </tr>\n",
              "    <tr>\n",
              "      <th>25%</th>\n",
              "      <td>0.000000</td>\n",
              "      <td>0.000000</td>\n",
              "      <td>0.000000</td>\n",
              "      <td>0.000000</td>\n",
              "      <td>0.000000</td>\n",
              "      <td>0.000000</td>\n",
              "      <td>0.000000</td>\n",
              "      <td>0.000000</td>\n",
              "      <td>1.000000</td>\n",
              "      <td>1.000000</td>\n",
              "      <td>0.000000</td>\n",
              "      <td>0.000000</td>\n",
              "      <td>2.000000</td>\n",
              "      <td>0.000000</td>\n",
              "      <td>0.000000</td>\n",
              "      <td>0.000000</td>\n",
              "    </tr>\n",
              "    <tr>\n",
              "      <th>50%</th>\n",
              "      <td>0.000000</td>\n",
              "      <td>0.000000</td>\n",
              "      <td>1.000000</td>\n",
              "      <td>0.000000</td>\n",
              "      <td>0.000000</td>\n",
              "      <td>0.000000</td>\n",
              "      <td>1.000000</td>\n",
              "      <td>1.000000</td>\n",
              "      <td>1.000000</td>\n",
              "      <td>1.000000</td>\n",
              "      <td>0.000000</td>\n",
              "      <td>0.000000</td>\n",
              "      <td>4.000000</td>\n",
              "      <td>1.000000</td>\n",
              "      <td>0.000000</td>\n",
              "      <td>0.000000</td>\n",
              "    </tr>\n",
              "    <tr>\n",
              "      <th>75%</th>\n",
              "      <td>1.000000</td>\n",
              "      <td>0.000000</td>\n",
              "      <td>1.000000</td>\n",
              "      <td>1.000000</td>\n",
              "      <td>0.000000</td>\n",
              "      <td>1.000000</td>\n",
              "      <td>1.000000</td>\n",
              "      <td>1.000000</td>\n",
              "      <td>1.000000</td>\n",
              "      <td>1.000000</td>\n",
              "      <td>0.000000</td>\n",
              "      <td>0.000000</td>\n",
              "      <td>4.000000</td>\n",
              "      <td>1.000000</td>\n",
              "      <td>0.000000</td>\n",
              "      <td>1.000000</td>\n",
              "    </tr>\n",
              "    <tr>\n",
              "      <th>max</th>\n",
              "      <td>1.000000</td>\n",
              "      <td>1.000000</td>\n",
              "      <td>1.000000</td>\n",
              "      <td>1.000000</td>\n",
              "      <td>1.000000</td>\n",
              "      <td>1.000000</td>\n",
              "      <td>1.000000</td>\n",
              "      <td>1.000000</td>\n",
              "      <td>1.000000</td>\n",
              "      <td>1.000000</td>\n",
              "      <td>1.000000</td>\n",
              "      <td>1.000000</td>\n",
              "      <td>8.000000</td>\n",
              "      <td>1.000000</td>\n",
              "      <td>1.000000</td>\n",
              "      <td>1.000000</td>\n",
              "    </tr>\n",
              "  </tbody>\n",
              "</table>\n",
              "</div>"
            ],
            "text/plain": [
              "             hair    feathers        eggs  ...        tail    domestic     catsize\n",
              "count  101.000000  101.000000  101.000000  ...  101.000000  101.000000  101.000000\n",
              "mean     0.425743    0.198020    0.584158  ...    0.742574    0.128713    0.435644\n",
              "std      0.496921    0.400495    0.495325  ...    0.439397    0.336552    0.498314\n",
              "min      0.000000    0.000000    0.000000  ...    0.000000    0.000000    0.000000\n",
              "25%      0.000000    0.000000    0.000000  ...    0.000000    0.000000    0.000000\n",
              "50%      0.000000    0.000000    1.000000  ...    1.000000    0.000000    0.000000\n",
              "75%      1.000000    0.000000    1.000000  ...    1.000000    0.000000    1.000000\n",
              "max      1.000000    1.000000    1.000000  ...    1.000000    1.000000    1.000000\n",
              "\n",
              "[8 rows x 16 columns]"
            ]
          },
          "metadata": {
            "tags": []
          },
          "execution_count": 15
        }
      ]
    },
    {
      "cell_type": "code",
      "metadata": {
        "id": "kbACmIcHNdyM",
        "colab_type": "code",
        "outputId": "d3f75aef-c4a8-4af6-fe4d-b0fc2eab9fc0",
        "colab": {
          "base_uri": "https://localhost:8080/",
          "height": 179
        }
      },
      "source": [
        "zoo_data.hair.describe()"
      ],
      "execution_count": 16,
      "outputs": [
        {
          "output_type": "execute_result",
          "data": {
            "text/plain": [
              "count    101.000000\n",
              "mean       0.425743\n",
              "std        0.496921\n",
              "min        0.000000\n",
              "25%        0.000000\n",
              "50%        0.000000\n",
              "75%        1.000000\n",
              "max        1.000000\n",
              "Name: hair, dtype: float64"
            ]
          },
          "metadata": {
            "tags": []
          },
          "execution_count": 16
        }
      ]
    },
    {
      "cell_type": "code",
      "metadata": {
        "id": "gpPmZAbjNoSo",
        "colab_type": "code",
        "outputId": "84f93c5a-e676-4079-e903-2dae58666ec1",
        "colab": {
          "base_uri": "https://localhost:8080/",
          "height": 297
        }
      },
      "source": [
        "sns.violinplot(x=zoo_data[\"hair\"])"
      ],
      "execution_count": 17,
      "outputs": [
        {
          "output_type": "execute_result",
          "data": {
            "text/plain": [
              "<matplotlib.axes._subplots.AxesSubplot at 0x7fdd2376cfd0>"
            ]
          },
          "metadata": {
            "tags": []
          },
          "execution_count": 17
        },
        {
          "output_type": "display_data",
          "data": {
            "image/png": "[encoded data removed]",
            "text/plain": [
              "<Figure size 432x288 with 1 Axes>"
            ]
          },
          "metadata": {
            "tags": []
          }
        }
      ]
    },
    {
      "cell_type": "code",
      "metadata": {
        "id": "QIFTYDzpOCd5",
        "colab_type": "code",
        "outputId": "7782653f-5bf8-404f-c42b-b473d4d88a8b",
        "colab": {
          "base_uri": "https://localhost:8080/",
          "height": 297
        }
      },
      "source": [
        "sns.violinplot(x=zoo_data[\"legs\"])"
      ],
      "execution_count": 18,
      "outputs": [
        {
          "output_type": "execute_result",
          "data": {
            "text/plain": [
              "<matplotlib.axes._subplots.AxesSubplot at 0x7fdd236d8208>"
            ]
          },
          "metadata": {
            "tags": []
          },
          "execution_count": 18
        },
        {
          "output_type": "display_data",
          "data": {
            "image/png": "[encoded data removed]",
            "text/plain": [
              "<Figure size 432x288 with 1 Axes>"
            ]
          },
          "metadata": {
            "tags": []
          }
        }
      ]
    },
    {
      "cell_type": "code",
      "metadata": {
        "id": "NX0azyeDOUr8",
        "colab_type": "code",
        "outputId": "79fc3cf1-285c-48e7-9b56-7c9682ca1140",
        "colab": {
          "base_uri": "https://localhost:8080/",
          "height": 89
        }
      },
      "source": [
        "import sklearn\n",
        "\n",
        "labels1 = KMeans(7, random_state=99).fit_predict(zoo_data)\n",
        "print(labels1)\n",
        "print(\"Accuracy:\",round(sklearn.metrics.silhouette_score(zoo_data,labels1), 2))"
      ],
      "execution_count": 19,
      "outputs": [
        {
          "output_type": "stream",
          "text": [
            "[1 1 5 1 1 1 1 5 5 1 1 2 5 0 6 3 2 1 5 5 2 2 1 2 3 6 6 4 1 4 3 1 4 2 5 1 1\n",
            " 2 5 3 3 2 3 2 1 1 3 1 1 1 1 3 6 3 1 1 2 2 2 2 5 5 0 1 1 1 5 1 1 1 1 2 3 5\n",
            " 5 4 5 0 2 2 0 0 5 2 4 6 5 2 3 6 6 6 5 4 1 2 4 3 1 0 2]\n",
            "Accuracy: 0.44\n"
          ],
          "name": "stdout"
        }
      ]
    },
    {
      "cell_type": "code",
      "metadata": {
        "id": "V49ZUma1PVqE",
        "colab_type": "code",
        "colab": {
          "base_uri": "https://localhost:8080/",
          "height": 202
        },
        "outputId": "17a34a63-fe6f-4d7b-97c8-566bb821c578"
      },
      "source": [
        "pca3 = PCA(3)\n",
        "zoo_data_pca = pd.DataFrame(pca3.fit_transform(zoo_data))\n",
        "zoo_data_pca.head()"
      ],
      "execution_count": 20,
      "outputs": [
        {
          "output_type": "execute_result",
          "data": {
            "text/html": [
              "<div>\n",
              "<style scoped>\n",
              "    .dataframe tbody tr th:only-of-type {\n",
              "        vertical-align: middle;\n",
              "    }\n",
              "\n",
              "    .dataframe tbody tr th {\n",
              "        vertical-align: top;\n",
              "    }\n",
              "\n",
              "    .dataframe thead th {\n",
              "        text-align: right;\n",
              "    }\n",
              "</style>\n",
              "<table border=\"1\" class=\"dataframe\">\n",
              "  <thead>\n",
              "    <tr style=\"text-align: right;\">\n",
              "      <th></th>\n",
              "      <th>0</th>\n",
              "      <th>1</th>\n",
              "      <th>2</th>\n",
              "    </tr>\n",
              "  </thead>\n",
              "  <tbody>\n",
              "    <tr>\n",
              "      <th>0</th>\n",
              "      <td>1.351029</td>\n",
              "      <td>-1.058533</td>\n",
              "      <td>0.314103</td>\n",
              "    </tr>\n",
              "    <tr>\n",
              "      <th>1</th>\n",
              "      <td>1.306634</td>\n",
              "      <td>-1.208344</td>\n",
              "      <td>-0.289405</td>\n",
              "    </tr>\n",
              "    <tr>\n",
              "      <th>2</th>\n",
              "      <td>-3.131655</td>\n",
              "      <td>0.252200</td>\n",
              "      <td>0.929419</td>\n",
              "    </tr>\n",
              "    <tr>\n",
              "      <th>3</th>\n",
              "      <td>1.351029</td>\n",
              "      <td>-1.058533</td>\n",
              "      <td>0.314103</td>\n",
              "    </tr>\n",
              "    <tr>\n",
              "      <th>4</th>\n",
              "      <td>1.277296</td>\n",
              "      <td>-1.225750</td>\n",
              "      <td>0.126239</td>\n",
              "    </tr>\n",
              "  </tbody>\n",
              "</table>\n",
              "</div>"
            ],
            "text/plain": [
              "          0         1         2\n",
              "0  1.351029 -1.058533  0.314103\n",
              "1  1.306634 -1.208344 -0.289405\n",
              "2 -3.131655  0.252200  0.929419\n",
              "3  1.351029 -1.058533  0.314103\n",
              "4  1.277296 -1.225750  0.126239"
            ]
          },
          "metadata": {
            "tags": []
          },
          "execution_count": 20
        }
      ]
    },
    {
      "cell_type": "code",
      "metadata": {
        "id": "kknSOGhqQr8I",
        "colab_type": "code",
        "outputId": "4accad93-f9f6-4df4-ff1b-d0d3dc4dff1d",
        "colab": {
          "base_uri": "https://localhost:8080/",
          "height": 89
        }
      },
      "source": [
        "labels2 = KMeans(7, random_state=99).fit_predict(zoo_data_pca)\n",
        "print(labels2)\n",
        "print(\"Accuracy:\",round(sklearn.metrics.silhouette_score(zoo_data_pca,labels2), 2))"
      ],
      "execution_count": 21,
      "outputs": [
        {
          "output_type": "stream",
          "text": [
            "[0 0 2 0 0 0 0 2 2 0 0 1 2 2 4 3 1 0 2 2 1 1 0 1 3 4 4 5 0 5 3 0 5 1 2 0 0\n",
            " 1 2 3 3 1 3 1 0 0 3 0 0 0 0 3 4 6 0 0 1 1 1 1 2 2 2 4 0 0 2 0 0 0 0 1 6 2\n",
            " 2 5 2 2 1 1 2 2 2 1 5 4 2 1 3 4 4 4 2 5 0 1 5 3 0 2 1]\n",
            "Accuracy: 0.68\n"
          ],
          "name": "stdout"
        }
      ]
    }
  ]
}